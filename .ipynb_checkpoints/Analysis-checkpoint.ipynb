{
 "cells": [
  {
   "cell_type": "code",
   "execution_count": 35,
   "metadata": {},
   "outputs": [],
   "source": [
    "import pandas as pd\n",
    "import numpy as np\n",
    "from sklearn.cluster import AgglomerativeClustering"
   ]
  },
  {
   "cell_type": "code",
   "execution_count": 134,
   "metadata": {},
   "outputs": [],
   "source": [
    "def cleanup(df):\n",
    "    df.columns = ['percent_daily_change', 'percent_monthly_change', 'percent_yearly_change', 'percent_change_week',\n",
    "             '52weekHigh', '52weekLow', 'percent_ADR/GDR', 'BSE_Code', 'percent_div_yeild', 'eps_ttm', 'FIIs',\n",
    "             'FV', 'percent_foreign_collaborators', 'p_freefloat', 'p_indian_prom', \n",
    "              'p_ind_MF', 'market_cap', 'num_of_shares', 'P/CF', 'P/E', \n",
    "              'p_prom_hold','price', 'sector', 'shareholders', 'volume', 'incorporate_year']\n",
    "#     df.drop(['percent_daily_change'], axis=1, inplace=True)\n",
    "    df[\"percent_monthly_change\"] = df[\"percent_monthly_change\"].astype('float')\n",
    "    df[\"percent_yearly_change\"] = df[\"percent_yearly_change\"].astype('float')\n",
    "    df[\"percent_change_week\"] = df[\"percent_change_week\"].astype('float')\n",
    "    df[\"52weekHigh\"] = df[\"52weekHigh\"].astype('float')\n",
    "    df[\"52weekLow\"] = df[\"52weekLow\"].astype('float')\n",
    "    df[\"percent_ADR/GDR\"] = df[\"percent_ADR/GDR\"].astype('float')\n",
    "    df[\"percent_div_yeild\"] = df[\"percent_div_yeild\"].astype('float')\n",
    "    df[\"eps_ttm\"] = df[\"eps_ttm\"].astype('float')\n",
    "    df[\"FIIs\"] = df[\"FIIs\"].astype('float')\n",
    "    df[\"FV\"] = df[\"FV\"].astype('float')\n",
    "    df[\"p_freefloat\"] = df[\"p_freefloat\"].astype('float')\n",
    "    df[\"p_indian_prom\"] = df[\"p_indian_prom\"].astype('float')\n",
    "    df[\"p_ind_MF\"] = df[\"p_ind_MF\"].astype('float')\n",
    "    df[\"market_cap\"] = df[\"market_cap\"].astype('float')\n",
    "    df[\"num_of_shares\"] = df[\"num_of_shares\"].astype('float')\n",
    "    df[\"P/CF\"] = df[\"P/CF\"].astype('float')\n",
    "    df[\"p_prom_hold\"] = df[\"p_prom_hold\"].astype('float')\n",
    "    df[\"price\"] = df[\"price\"].astype('float')\n",
    "    df[\"sector\"] = df[\"sector\"].astype('float')\n",
    "    df[\"shareholders\"] = df[\"shareholders\"].astype('float')\n",
    "    df[\"incorporate_year\"] = df[\"incorporate_year\"].astype('float')\n",
    "    df.fillna(0, inplace=True)\n",
    "    return df\n",
    "\n",
    "df = pd.read_pickle('main_df')\n",
    "df = cleanup(df)\n",
    "    \n",
    "    \n",
    "    "
   ]
  },
  {
   "cell_type": "code",
   "execution_count": 135,
   "metadata": {},
   "outputs": [],
   "source": [
    "# clustering = AgglomerativeClustering(n_clusters=15, linkage='ward').fit(df.values)\n",
    "# df['cluster'] = clustering.labels_"
   ]
  },
  {
   "cell_type": "code",
   "execution_count": 144,
   "metadata": {},
   "outputs": [
    {
     "data": {
      "text/html": [
       "<div>\n",
       "<style scoped>\n",
       "    .dataframe tbody tr th:only-of-type {\n",
       "        vertical-align: middle;\n",
       "    }\n",
       "\n",
       "    .dataframe tbody tr th {\n",
       "        vertical-align: top;\n",
       "    }\n",
       "\n",
       "    .dataframe thead th {\n",
       "        text-align: right;\n",
       "    }\n",
       "</style>\n",
       "<table border=\"1\" class=\"dataframe\">\n",
       "  <thead>\n",
       "    <tr style=\"text-align: right;\">\n",
       "      <th></th>\n",
       "      <th>BSE_Code</th>\n",
       "      <th>price</th>\n",
       "      <th>volume</th>\n",
       "      <th>52weekHigh</th>\n",
       "      <th>52weekLow</th>\n",
       "      <th>P/CF</th>\n",
       "      <th>P/E</th>\n",
       "      <th>eps_ttm</th>\n",
       "      <th>p_ind_MF</th>\n",
       "      <th>p_indian_prom</th>\n",
       "      <th>sector</th>\n",
       "    </tr>\n",
       "  </thead>\n",
       "  <tbody>\n",
       "    <tr>\n",
       "      <th>ITC</th>\n",
       "      <td>500875</td>\n",
       "      <td>197.5</td>\n",
       "      <td>13700.0</td>\n",
       "      <td>266.2</td>\n",
       "      <td>135.0</td>\n",
       "      <td>17.0</td>\n",
       "      <td>17.0</td>\n",
       "      <td>11.6</td>\n",
       "      <td>0.387</td>\n",
       "      <td>0.00</td>\n",
       "      <td>5.0</td>\n",
       "    </tr>\n",
       "    <tr>\n",
       "      <th>ASTM</th>\n",
       "      <td>532493</td>\n",
       "      <td>127.3</td>\n",
       "      <td>1300.0</td>\n",
       "      <td>132.0</td>\n",
       "      <td>45.9</td>\n",
       "      <td>25.8</td>\n",
       "      <td>22.0</td>\n",
       "      <td>5.8</td>\n",
       "      <td>0.234</td>\n",
       "      <td>0.17</td>\n",
       "      <td>6.0</td>\n",
       "    </tr>\n",
       "    <tr>\n",
       "      <th>IGL</th>\n",
       "      <td>532514</td>\n",
       "      <td>419.8</td>\n",
       "      <td>9500.0</td>\n",
       "      <td>534.4</td>\n",
       "      <td>284.6</td>\n",
       "      <td>30.7</td>\n",
       "      <td>25.9</td>\n",
       "      <td>16.2</td>\n",
       "      <td>0.217</td>\n",
       "      <td>0.45</td>\n",
       "      <td>17.0</td>\n",
       "    </tr>\n",
       "  </tbody>\n",
       "</table>\n",
       "</div>"
      ],
      "text/plain": [
       "     BSE_Code  price   volume  52weekHigh  52weekLow  P/CF   P/E  eps_ttm  \\\n",
       "ITC    500875  197.5  13700.0       266.2      135.0  17.0  17.0     11.6   \n",
       "ASTM   532493  127.3   1300.0       132.0       45.9  25.8  22.0      5.8   \n",
       "IGL    532514  419.8   9500.0       534.4      284.6  30.7  25.9     16.2   \n",
       "\n",
       "      p_ind_MF  p_indian_prom  sector  \n",
       "ITC      0.387           0.00     5.0  \n",
       "ASTM     0.234           0.17     6.0  \n",
       "IGL      0.217           0.45    17.0  "
      ]
     },
     "execution_count": 144,
     "metadata": {},
     "output_type": "execute_result"
    }
   ],
   "source": [
    "['percent_daily_change', 'percent_monthly_change', 'percent_yearly_change', 'percent_change_week',\n",
    "'52weekHigh', '52weekLow', 'percent_ADR/GDR', 'BSE_Code', 'percent_div_yeild', 'eps_ttm', 'FIIs',\n",
    "'FV', 'percent_foreign_collaborators', 'p_freefloat', 'p_indian_prom', \n",
    "'p_ind_MF', 'market_cap', 'num_of_shares', 'P/CF', 'P/E', \n",
    "'p_prom_hold','price', 'sector', 'shareholders', 'volume', 'incorporate_year']\n",
    "\n",
    "interest_list = ['BSE_Code','price','volume', '52weekHigh', '52weekLow','P/CF', 'P/E','eps_ttm','p_ind_MF','p_indian_prom','sector']\n",
    "df[(df.eps_ttm>5) & (df.price<500) & (df.p_ind_MF>.20) & (df['P/CF']>15)].sort_values(by='p_ind_MF', ascending=False)[interest_list]"
   ]
  },
  {
   "cell_type": "code",
   "execution_count": 102,
   "metadata": {},
   "outputs": [],
   "source": []
  },
  {
   "cell_type": "code",
   "execution_count": null,
   "metadata": {},
   "outputs": [],
   "source": []
  }
 ],
 "metadata": {
  "kernelspec": {
   "display_name": "Python 3",
   "language": "python",
   "name": "python3"
  },
  "language_info": {
   "codemirror_mode": {
    "name": "ipython",
    "version": 3
   },
   "file_extension": ".py",
   "mimetype": "text/x-python",
   "name": "python",
   "nbconvert_exporter": "python",
   "pygments_lexer": "ipython3",
   "version": "3.8.2"
  }
 },
 "nbformat": 4,
 "nbformat_minor": 4
}
